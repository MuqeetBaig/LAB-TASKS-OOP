import csv

class Employee:
    def __init__(self, name, age, salary):
        self.name = name
        self.age = age
        self.salary = salary

    def to_csv_row(self):
        raise NotImplementedError("Subclass must implement this method")

class Manager(Employee):
    def __init__(self, name, age, salary, department):
        super().__init__(name, age, salary)
        self.department = department

    def to_csv_row(self):
        return [self.name, self.age, self.salary, self.department, ""]

class Worker(Employee):
    def __init__(self, name, age, salary, hours_worked):
        super().__init__(name, age, salary)
        self.hours_worked = hours_worked

    def to_csv_row(self):
        return [self.name, self.age, self.salary, "", self.hours_worked]

class EmployeeManagementSystem:
    def __init__(self, filename="employees.csv"):
        self.filename = filename

    def add_employee(self):
        emp_type = input("Enter employee type (Manager/Worker): ").lower()
        name = input("Enter name: ")
        age = input("Enter age: ")
        salary = input("Enter salary: ")

        if emp_type == "manager":
            department = input("Enter department: ")
            employee = Manager(name, age, salary, department)
        elif emp_type == "worker":
            hours_worked = input("Enter hours worked: ")
            employee = Worker(name, age, salary, hours_worked)
        else:
            print("Invalid employee type.")
            return

        with open(self.filename, "a", newline="") as file:
            writer = csv.writer(file)
            writer.writerow(employee.to_csv_row())
        print(f"{emp_type.capitalize()} {name} added successfully.")

    def display_employees(self):
        try:
            with open(self.filename, "r") as file:
                reader = csv.reader(file)
                print("Name | Age | Salary | Department | Hours Worked")
                for row in reader:
                    print(" | ".join(row))
        except FileNotFoundError:
            print("No employees found.")

    def update_employee(self):
        name = input("Enter employee name to update: ")
        attribute = input("Enter attribute to update (age/salary/department/hours_worked): ").lower()
        new_value = input("Enter new value: ")

        rows = []
        updated = False
        with open(self.filename, "r") as file:
            reader = csv.reader(file)
            for row in reader:
                if row[0] == name:
                    if attribute in ["age", "salary", "department", "hours_worked"]:
                        index = ["name", "age", "salary", "department", "hours_worked"].index(attribute)
                        row[index] = new_value
                        updated = True
                rows.append(row)

        if updated:
            with open(self.filename, "w", newline="") as file:
                writer = csv.writer(file)
                writer.writerows(rows)
            print(f"Updated {name}'s {attribute}.")
        else:
            print(f"Employee {name} not found or invalid attribute.")

    def delete_employee(self):
        name = input("Enter employee name to delete: ")
        rows = []
        deleted = False
        with open(self.filename, "r") as file:
            reader = csv.reader(file)
            for row in reader:
                if row[0] != name:
                    rows.append(row)
                else:
                    deleted = True

        if deleted:
            with open(self.filename, "w", newline="") as file:
                writer = csv.writer(file)
                writer.writerows(rows)
            print(f"Deleted employee {name}.")
        else:
            print(f"Employee {name} not found.")

    def run(self):
        while True:
            print("\nEmployee Management System")
            print("1. Add Employee")
            print("2. Display Employees")
            print("3. Update Employee")
            print("4. Delete Employee")
            print("5. Exit")
            choice = input("Enter your choice: ")

            if choice == "1":
                self.add_employee()
            elif choice == "2":
                self.display_employees()
            elif choice == "3":
                self.update_employee()
            elif choice == "4":
                self.delete_employee()
            elif choice == "5":
                print("Exiting...")
                break
            else:
                print("Invalid choice. Please try again.")

if __name__ == "__main__":
    ems = EmployeeManagementSystem()
    ems.run()