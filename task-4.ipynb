{
 "cells": [
  {
   "cell_type": "code",
   "execution_count": 2,
   "id": "d4ec4d46-6733-4bf8-a07d-696b3c949909",
   "metadata": {},
   "outputs": [
    {
     "name": "stdout",
     "output_type": "stream",
     "text": [
      " color: grey, name: donkey\n"
     ]
    }
   ],
   "source": [
    "class animal:\n",
    "    def __init__(self, color, name):\n",
    "        self.color = color\n",
    "        self.name = name\n",
    "\n",
    "    def __str__(self):\n",
    "        return f\" color: {self.color}, name: {self.name}\"\n",
    "\n",
    "\n",
    "a1 = animal('grey', 'donkey')\n",
    "print(a1)\n"
   ]
  },
  {
   "cell_type": "code",
   "execution_count": null,
   "id": "e64947e1-18d0-45a4-a468-1a69ef17962d",
   "metadata": {},
   "outputs": [],
   "source": []
  }
 ],
 "metadata": {
  "kernelspec": {
   "display_name": "Python 3 (ipykernel)",
   "language": "python",
   "name": "python3"
  },
  "language_info": {
   "codemirror_mode": {
    "name": "ipython",
    "version": 3
   },
   "file_extension": ".py",
   "mimetype": "text/x-python",
   "name": "python",
   "nbconvert_exporter": "python",
   "pygments_lexer": "ipython3",
   "version": "3.11.7"
  }
 },
 "nbformat": 4,
 "nbformat_minor": 5
}
