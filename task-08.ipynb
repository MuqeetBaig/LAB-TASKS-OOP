import csv

class Employee:
    def __init__(self, name, age, employee_id, position, department):
        self.name = name
        self.age = age
        self.employee_id = employee_id
        self.position = position
        self.department = department

    def display_info(self):
        """Display employee information."""
        print(f"Name: {self.name}, Age: {self.age}, ID: {self.employee_id}, Position: {self.position}, Department: {self.department}")

class EmployeeManager:
    def __init__(self, filename='employees.csv'):
        self.filename = filename
        self._initialize_file()

    def _initialize_file(self):
        """Create the CSV file and write the header if it doesn't exist."""
        try:
            with open(self.filename, 'x', newline='') as file:
                writer = csv.writer(file)
                writer.writerow(['Name', 'Age', 'Employee ID', 'Position', 'Department'])
        except FileExistsError:
            pass  

    def add_employee(self, employee):
        """Add an employee to the CSV file."""
        with open(self.filename, 'a', newline='') as file:
            writer = csv.writer(file)
            writer.writerow([employee.name, employee.age, employee.employee_id, employee.position, employee.department])
        print(f"Added: {employee.name}")

    def list_employees(self):
        """List all employees from the CSV file."""
        try:
            with open(self.filename, 'r') as file:
                reader = csv.reader(file)
                next(reader)  
                for row in reader:
                    print(", ".join(row))
        except FileNotFoundError:
            print("No employee records found.")

def main():
    manager = EmployeeManager()

    
    emp1 = Employee("Alice Johnson", 30, "AJ30", "Software Engineer", "IT")
    emp2 = Employee("Bob Smith", 25, "BS25", "Data Analyst", "Analytics")

    manager.add_employee(emp1)
    manager.add_employee(emp2)

    print("\nCurrent Employee List:")
    manager.list_employees()

if __name__ == "__main__":
    main()