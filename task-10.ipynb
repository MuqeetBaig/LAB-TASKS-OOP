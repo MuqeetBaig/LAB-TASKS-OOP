import csv

class Employee:
    def __init__(self, name, age, salary):
        self.name = name
        self.age = age
        self.salary = salary

class Manager(Employee):
    def __init__(self, name, age, salary, department):
        super().__init__(name, age, salary)
        self.department = department

class Worker(Employee):
    def __init__(self, name, age, salary, hours_worked):
        super().__init__(name, age, salary)
        self.hours_worked = hours_worked

class EmployeeManagementSystem:
    def __init__(self, filename="employees.csv"):
        self.filename = filename

    def add_employee(self, employee):
        with open(self.filename, mode="a", newline="") as file:
            writer = csv.writer(file)
            if isinstance(employee, Manager):
                writer.writerow([employee.name, employee.age, employee.salary, employee.department, ""])
            elif isinstance(employee, Worker):
                writer.writerow([employee.name, employee.age, employee.salary, "", employee.hours_worked])
        print(f"Added {employee.name} to the system.")

    def display_employees(self):
        try:
            with open(self.filename, mode="r") as file:
                reader = csv.reader(file)
                print("Name | Age | Salary | Department | Hours Worked")
                for row in reader:
                    print(" | ".join(row))
        except FileNotFoundError:
            print("No employees found.")

    def update_employee(self, name, attribute, new_value):
        rows = []
        updated = False
        with open(self.filename, mode="r") as file:
            reader = csv.reader(file)
            for row in reader:
                if row[0] == name:
                    if attribute in ["age", "salary", "department", "hours_worked"]:
                        index = ["name", "age", "salary", "department", "hours_worked"].index(attribute)
                        row[index] = new_value
                        updated = True
                rows.append(row)

        if updated:
            with open(self.filename, mode="w", newline="") as file:
                writer = csv.writer(file)
                writer.writerows(rows)
            print(f"Updated {name}'s {attribute}.")
        else:
            print(f"Employee {name} not found or invalid attribute.")

    def delete_employee(self, name):
        rows = []
        deleted = False
        with open(self.filename, mode="r") as file:
            reader = csv.reader(file)
            for row in reader:
                if row[0] != name:
                    rows.append(row)
                else:
                    deleted = True

        if deleted:
            with open(self.filename, mode="w", newline="") as file:
                writer = csv.writer(file)
                writer.writerows(rows)
            print(f"Deleted employee {name}.")
        else:
            print(f"Employee {name} not found.")

def main():
    ems = EmployeeManagementSystem()

    while True:
        print("\nEmployee Management System")
        print("1. Add Employee")
        print("2. Display Employees")
        print("3. Update Employee")
        print("4. Delete Employee")
        print("5. Exit")

        choice = input("Enter your choice: ")

        if choice == "1":
            emp_type = input("Enter employee type (Manager/Worker): ").lower()
            name = input("Enter name: ")
            age = int(input("Enter age: "))
            salary = float(input("Enter salary: "))

            if emp_type == "manager":
                department = input("Enter department: ")
                employee = Manager(name, age, salary, department)
            elif emp_type == "worker":
                hours_worked = float(input("Enter hours worked: "))
                employee = Worker(name, age, salary, hours_worked)
            else:
                print("Invalid employee type.")
                continue

            ems.add_employee(employee)

        elif choice == "2":
            ems.display_employees()

        elif choice == "3":
            name = input("Enter employee name: ")
            attribute = input("Enter attribute to update (age/salary/department/hours_worked): ")
            new_value = input("Enter new value: ")
            ems.update_employee(name, attribute, new_value)

        elif choice == "4":
            name = input("Enter employee name to delete: ")
            ems.delete_employee(name)

        elif choice == "5":
            print("Exiting...")
            break

        else:
            print("Invalid choice. Please try again.")

if __name__ == "__main__":
    main()