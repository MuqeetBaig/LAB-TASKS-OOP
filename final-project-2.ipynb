{
 "cells": [
  {
   "cell_type": "code",
   "execution_count": 3,
   "id": "eb4fc6c6-f2ef-4484-b736-6d8d9dd9de39",
   "metadata": {},
   "outputs": [
    {
     "name": "stdout",
     "output_type": "stream",
     "text": [
      "File expenses.txt not found.\n",
      "\n",
      "1. Add Expense\n",
      "2. Remove Expense\n",
      "3. Display Expenses\n",
      "4. Calculate Total\n",
      "5. Save Expenses\n",
      "6. Load Expenses\n",
      "7. Exit\n"
     ]
    },
    {
     "name": "stdin",
     "output_type": "stream",
     "text": [
      "Choose an option (1-7):  3\n"
     ]
    },
    {
     "name": "stdout",
     "output_type": "stream",
     "text": [
      "No expenses recorded yet.\n",
      "\n",
      "1. Add Expense\n",
      "2. Remove Expense\n",
      "3. Display Expenses\n",
      "4. Calculate Total\n",
      "5. Save Expenses\n",
      "6. Load Expenses\n",
      "7. Exit\n"
     ]
    },
    {
     "name": "stdin",
     "output_type": "stream",
     "text": [
      "Choose an option (1-7):  6\n"
     ]
    },
    {
     "name": "stdout",
     "output_type": "stream",
     "text": [
      "File expenses.txt not found.\n",
      "\n",
      "1. Add Expense\n",
      "2. Remove Expense\n",
      "3. Display Expenses\n",
      "4. Calculate Total\n",
      "5. Save Expenses\n",
      "6. Load Expenses\n",
      "7. Exit\n"
     ]
    },
    {
     "name": "stdin",
     "output_type": "stream",
     "text": [
      "Choose an option (1-7):  7\n"
     ]
    },
    {
     "name": "stdout",
     "output_type": "stream",
     "text": [
      "Goodbye!\n"
     ]
    }
   ],
   "source": [
    "import os\n",
    "\n",
    "class Expense:\n",
    "    def __init__(self, name, amount, category):\n",
    "        self.name = name\n",
    "        self.amount = amount\n",
    "        self.category = category\n",
    "\n",
    "    def __str__(self):\n",
    "        return f\"{self.name}: RS: {self.amount:.2f} (Category: {self.category})\"\n",
    "\n",
    "class ExpenseTracker:\n",
    "    def __init__(self):\n",
    "        self.expenses = []\n",
    "\n",
    "    def add_expense(self, name, amount, category):\n",
    "        expense = Expense(name, amount, category)\n",
    "        self.expenses.append(expense)\n",
    "        print(f\"Added expense: {expense}\")\n",
    "\n",
    "    def remove_expense(self, name):\n",
    "        for expense in self.expenses:\n",
    "            if expense.name == name:\n",
    "                self.expenses.remove(expense)\n",
    "                print(f\"Removed expense: {expense}\")\n",
    "                return\n",
    "        print(f\"No expense found with the name: {name}\")\n",
    "\n",
    "    def display_expenses(self):\n",
    "        if not self.expenses:\n",
    "            print(\"No expenses recorded yet.\")\n",
    "        else:\n",
    "            print(\"Expenses List:\")\n",
    "            for expense in self.expenses:\n",
    "                print(expense)\n",
    "\n",
    "    def calculate_total(self):\n",
    "        total = sum(expense.amount for expense in self.expenses)\n",
    "        print(f\"Total Expenses: ${total:.2f}\")\n",
    "\n",
    "    def save_expenses_to_file(self, filename):\n",
    "        with open(filename, 'w') as file:\n",
    "            for expense in self.expenses:\n",
    "                file.write(f\"{expense.name},{expense.amount},{expense.category}\\n\")\n",
    "        print(f\"Expenses saved to {filename}\")\n",
    "\n",
    "    def load_expenses_from_file(self, filename):\n",
    "        if not os.path.exists(filename):\n",
    "            print(f\"File {filename} not found.\")\n",
    "            return\n",
    "        with open(filename, 'r') as file:\n",
    "            for line in file:\n",
    "                name, amount, category = line.strip().split(',')\n",
    "                self.add_expense(name, float(amount), category)\n",
    "        print(f\"Expenses loaded from {filename}\")\n",
    "\n",
    "\n",
    "def main():\n",
    "    tracker = ExpenseTracker()\n",
    "\n",
    "    \n",
    "    tracker.load_expenses_from_file(\"expenses.txt\")\n",
    "\n",
    "    while True:\n",
    "        print(\"\\n1. Add Expense\")\n",
    "        print(\"2. Remove Expense\")\n",
    "        print(\"3. Display Expenses\")\n",
    "        print(\"4. Calculate Total\")\n",
    "        print(\"5. Save Expenses\")\n",
    "        print(\"6. Load Expenses\")\n",
    "        print(\"7. Exit\")\n",
    "\n",
    "        choice = input(\"Choose an option (1-7): \")\n",
    "\n",
    "        if choice == '1':\n",
    "            name = input(\"Enter expense name: \")\n",
    "            amount = float(input(\"Enter amount: $\"))\n",
    "            category = input(\"Enter category: \")\n",
    "            tracker.add_expense(name, amount, category)\n",
    "        elif choice == '2':\n",
    "            name = input(\"Enter the expense name to remove: \")\n",
    "            tracker.remove_expense(name)\n",
    "        elif choice == '3':\n",
    "            tracker.display_expenses()\n",
    "        elif choice == '4':\n",
    "            tracker.calculate_total()\n",
    "        elif choice == '5':\n",
    "            tracker.save_expenses_to_file(\"expenses.txt\")\n",
    "        elif choice == '6':\n",
    "            tracker.load_expenses_from_file(\"expenses.txt\")\n",
    "        elif choice == '7':\n",
    "            print(\"Goodbye!\")\n",
    "            break\n",
    "        else:\n",
    "            print(\"Invalid choice. Please select a number between 1 and 7.\")\n",
    "\n",
    "if __name__ == \"__main__\":\n",
    "    main()\n"
   ]
  },
  {
   "cell_type": "code",
   "execution_count": null,
   "id": "1c95ade3-6eb3-49bc-809f-666a250f4a58",
   "metadata": {},
   "outputs": [],
   "source": []
  }
 ],
 "metadata": {
  "kernelspec": {
   "display_name": "Python 3 (ipykernel)",
   "language": "python",
   "name": "python3"
  },
  "language_info": {
   "codemirror_mode": {
    "name": "ipython",
    "version": 3
   },
   "file_extension": ".py",
   "mimetype": "text/x-python",
   "name": "python",
   "nbconvert_exporter": "python",
   "pygments_lexer": "ipython3",
   "version": "3.11.7"
  }
 },
 "nbformat": 4,
 "nbformat_minor": 5
}
