{
 "cells": [
  {
   "cell_type": "code",
   "execution_count": null,
   "id": "fdd828cb-5413-4231-8c7e-2330f6d10545",
   "metadata": {},
   "outputs": [],
   "source": [
    "import math\n",
    "\n",
    "def is_prime(n):\n",
    "    if n < 2:\n",
    "        return False\n",
    "    for i in range(2, int(math.sqrt(n)) + 1):\n",
    "        if n % i == 0:\n",
    "            return False\n",
    "    return True\n",
    "\n",
    "print(is_prime())\n"
   ]
  },
  {
   "cell_type": "code",
   "execution_count": null,
   "id": "62bd6783-bd39-4ef8-8911-88d046a7dd5d",
   "metadata": {},
   "outputs": [],
   "source": [
    "def check_prime():\n",
    "    while True:\n",
    "        number = int(input(\"Enter a number to check (enter 0 to quit): \"))\n",
    "        \n",
    "        if number == 0:\n",
    "            break\n",
    "        \n",
    "        count = 0\n",
    "        for i in range(1, number + 1):\n",
    "            if number % i == 0:\n",
    "                count += 1\n",
    "                \n",
    "        if count == 2:\n",
    "            print('True')\n",
    "        else:\n",
    "            print('False')\n",
    "\n",
    "check_prime()\n"
   ]
  }
 ],
 "metadata": {
  "kernelspec": {
   "display_name": "Python 3 (ipykernel)",
   "language": "python",
   "name": "python3"
  },
  "language_info": {
   "codemirror_mode": {
    "name": "ipython",
    "version": 3
   },
   "file_extension": ".py",
   "mimetype": "text/x-python",
   "name": "python",
   "nbconvert_exporter": "python",
   "pygments_lexer": "ipython3",
   "version": "3.11.7"
  }
 },
 "nbformat": 4,
 "nbformat_minor": 5
}
