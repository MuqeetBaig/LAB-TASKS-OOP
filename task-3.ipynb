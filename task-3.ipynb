{
 "cells": [
  {
   "cell_type": "code",
   "execution_count": null,
   "id": "b79aa6fe-864c-4cb2-a226-c540aa2e446b",
   "metadata": {},
   "outputs": [],
   "source": [
    "class Rectangle:\n",
    "    def __init__(self, w, h):\n",
    "        self.w = w\n",
    "        self.h = h\n",
    "\n",
    "    def __str__(self):\n",
    "        return f\"Rectangle: {self.w} x {self.h}\"\n",
    "\n",
    "    def area(self):\n",
    "        print(\"Area -> \", self.w * self.h)\n",
    "\n",
    "    def perimeter(self):\n",
    "        print(\"Perimeter -> \", 2 * (self.w + self.h))\n",
    "\n",
    "\n",
    "rect = Rectangle(5, 5)\n",
    "rect.area()\n",
    "rect.perimeter()\n"
   ]
  }
 ],
 "metadata": {
  "kernelspec": {
   "display_name": "Python 3 (ipykernel)",
   "language": "python",
   "name": "python3"
  },
  "language_info": {
   "codemirror_mode": {
    "name": "ipython",
    "version": 3
   },
   "file_extension": ".py",
   "mimetype": "text/x-python",
   "name": "python",
   "nbconvert_exporter": "python",
   "pygments_lexer": "ipython3",
   "version": "3.11.7"
  }
 },
 "nbformat": 4,
 "nbformat_minor": 5
}
