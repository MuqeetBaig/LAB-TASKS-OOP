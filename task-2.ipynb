{
 "cells": [
  {
   "cell_type": "markdown",
   "id": "263f46a8-816a-460f-84ba-b9eed6ff9394",
   "metadata": {},
   "source": [
    "Class:\n",
    "\n",
    "A class is like a recipe—it provides the instructions but doesn’t make anything on its own. It defines attributes (like a person's name) and actions (like walking). The class is the plan, not the final result.\n",
    "\n",
    "Object:\n",
    "\n",
    "An object is the dish made from the recipe—a real, unique version. Using the class, you create an object with specific details, like a person named Alice or Bob, each with their own traits."
   ]
  },
  {
   "cell_type": "code",
   "execution_count": null,
   "id": "c3d8ccef-41e5-43b3-955f-3af960180203",
   "metadata": {},
   "outputs": [],
   "source": [
    "class Car:\n",
    "    def __init__(self, brand, color):\n",
    "        self.brand = brand  \n",
    "        self.color = color  \n",
    "    \n",
    "    def start_engine(self): \n",
    "        print(f\"{self.brand} engine started!\")\n",
    "\n",
    "\n",
    "my_car = Car(\"Toyota\", \"Red\")\n",
    "\n",
    "\n",
    "print(my_car.brand)  \n",
    "print(my_car.color)  \n",
    "my_car.start_engine()  "
   ]
  },
  {
   "cell_type": "markdown",
   "id": "a8006be0-417f-421b-8fb8-f0f68865bd6b",
   "metadata": {},
   "source": [
    "__init__ (Initialization):\n",
    "__init__ is like the setup stage when someone new joins a team. When a new object is created, __init__ gets called to give that object all the necessary details it needs—like its name, age, or other starting values. It’s the first step to get the object ready to do its job.\n",
    "\n",
    "Purpose: To set up the object with everything it needs from the start.\n",
    "__str__ (String Representation):\n",
    "__str__ is like the object introducing itself. It tells you what to show or say when someone asks, \"Who is this?\" or \"What does this object look like?\" So, when you print the object, __str__ controls how it describes itself in a simple, readable way.\n",
    "\n",
    "Purpose: To give a friendly, readable description when the object is printed."
   ]
  },
  {
   "cell_type": "code",
   "execution_count": null,
   "id": "9db09061-1007-4fa3-918e-66c5593a9873",
   "metadata": {},
   "outputs": [],
   "source": [
    "class Person:\n",
    "    def __init__(self, name, age):\n",
    "        self.name = name  # Initializes the name attribute\n",
    "        self.age = age    # Initializes the age attribute\n",
    "    \n",
    "    def __str__(self):\n",
    "        return f\"{self.name} is {self.age} years old.\"  \n",
    "\n",
    "\n",
    "person = Person(\"Alice\", 30)\n",
    "\n",
    "print(person.name)  \n",
    "print(person.age)"
   ]
  }
 ],
 "metadata": {
  "kernelspec": {
   "display_name": "Python 3 (ipykernel)",
   "language": "python",
   "name": "python3"
  },
  "language_info": {
   "codemirror_mode": {
    "name": "ipython",
    "version": 3
   },
   "file_extension": ".py",
   "mimetype": "text/x-python",
   "name": "python",
   "nbconvert_exporter": "python",
   "pygments_lexer": "ipython3",
   "version": "3.11.7"
  }
 },
 "nbformat": 4,
 "nbformat_minor": 5
}
